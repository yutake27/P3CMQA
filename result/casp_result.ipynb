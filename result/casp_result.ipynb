{
 "metadata": {
  "language_info": {
   "codemirror_mode": {
    "name": "ipython",
    "version": 3
   },
   "file_extension": ".py",
   "mimetype": "text/x-python",
   "name": "python",
   "nbconvert_exporter": "python",
   "pygments_lexer": "ipython3",
   "version": "3.9.1-final"
  },
  "orig_nbformat": 2,
  "kernelspec": {
   "name": "python3",
   "display_name": "Python 3.9.1 64-bit",
   "metadata": {
    "interpreter": {
     "hash": "033a30f494deec8ceeb512afef8c9dc113472ba2d32680e95a1365ed9cc23893"
    }
   }
  }
 },
 "nbformat": 4,
 "nbformat_minor": 2,
 "cells": [
  {
   "source": [
    "# Compare methods on CASP dataset"
   ],
   "cell_type": "markdown",
   "metadata": {}
  },
  {
   "cell_type": "code",
   "execution_count": 1,
   "metadata": {},
   "outputs": [],
   "source": [
    "import matplotlib.pyplot as plt\n",
    "import numpy as np\n",
    "import pandas as pd\n",
    "import seaborn as sns\n",
    "from scipy import stats\n",
    "pd.options.display.float_format = '{:.3f}'.format\n",
    "plt.rcParams[\"figure.dpi\"] = 300\n",
    "sns.set(style='darkgrid')\n",
    "from sklearn.metrics import mean_absolute_error, mean_squared_error"
   ]
  },
  {
   "cell_type": "code",
   "execution_count": 2,
   "metadata": {},
   "outputs": [],
   "source": [
    "def eval(df: pd.DataFrame, base_method: str, comparison_method_list: list, label: str = 'GDT_TS', target_column_name: str = 'target', discard_low_model: bool = True, discard_thre=40):\n",
    "    if discard_low_model:\n",
    "        df = df.groupby(target_column_name).filter(lambda x: x[label].max() > discard_thre)\n",
    "    group = df.groupby(target_column_name)\n",
    "    pearson = group.corr()[label]\n",
    "    spearman = group.corr('spearman')[label]\n",
    "    pro_pearson = pearson.mean(level=1)[base_method]\n",
    "    pro_spearman = spearman.mean(level=1)[base_method]\n",
    "    loss = group.apply(lambda x: x[label].max()-x[label][x[base_method].idxmax()])\n",
    "    pro_loss = loss.mean()\n",
    "    zscore = group.apply(lambda x: stats.zscore(x[label])[x.index.get_loc(x[base_method].idxmax())])\n",
    "    pro_zscore = zscore.mean()\n",
    "    pearson_list = [pro_pearson]\n",
    "    spearman_list = [pro_spearman]\n",
    "    loss_list = [pro_loss]\n",
    "    zscore_list = [pro_zscore]\n",
    "    p_pearson_list = [None]\n",
    "    p_spearman_list = [None]\n",
    "    p_loss_list = [None]\n",
    "    p_zscore_list = [None]\n",
    "    for method in comparison_method_list:\n",
    "        pearson_list.append(pearson.mean(level=1)[method])\n",
    "        _, p_pearson = stats.wilcoxon(list(pearson[:, base_method]), list(pearson[:,method]))\n",
    "        p_pearson_list.append(p_pearson)\n",
    "        spearman_list.append(spearman.mean(level=1)[method])\n",
    "        _, p_spearman = stats.wilcoxon(list(spearman[:, base_method]), list(spearman[:,method]))\n",
    "        p_spearman_list.append(p_spearman)\n",
    "        com_loss = group.apply(lambda x: x[label].max() - x[label][x[method].idxmax()])\n",
    "        loss_list.append(com_loss.mean())\n",
    "        _, p_loss = stats.wilcoxon(list(loss), list(com_loss))\n",
    "        p_loss_list.append(p_loss)\n",
    "        com_zscore = group.apply(lambda x: stats.zscore(x[label])[x.index.get_loc(x[method].idxmax())])\n",
    "        zscore_list.append(com_zscore.mean())\n",
    "        _, p_zscore = stats.wilcoxon(list(zscore), list(com_zscore))\n",
    "        p_zscore_list.append(p_zscore)\n",
    "        method = [base_method] + list(comparison_method_list)\n",
    "    \n",
    "    result_df = pd.DataFrame({'pearson': pearson_list, 'spearman': spearman_list, 'loss': loss_list, 'zscore': zscore_list, 'pearson_p': p_pearson_list, 'spearman_p': p_spearman_list, 'loss_p': p_loss_list, 'zscore_p': p_zscore_list}, index=method)\n",
    "    return result_df"
   ]
  },
  {
   "cell_type": "code",
   "execution_count": 3,
   "metadata": {},
   "outputs": [],
   "source": [
    "casp13_df = pd.read_csv('casp13.csv', index_col=0)\n",
    "casp12_df = pd.read_csv('casp12.csv', index_col=0)\n",
    "casp11_df = pd.read_csv('casp11.csv', index_col=0)"
   ]
  },
  {
   "cell_type": "code",
   "execution_count": 4,
   "metadata": {},
   "outputs": [
    {
     "output_type": "execute_result",
     "data": {
      "text/plain": [
       "            pearson  spearman   loss  zscore  pearson_p  spearman_p  loss_p  \\\n",
       "Proposed      0.797     0.757  5.708   1.264        NaN         NaN     NaN   \n",
       "ProQ3D        0.686     0.638  9.482   0.990      0.000       0.000   0.022   \n",
       "ProQ2D        0.708     0.665  8.766   1.000      0.000       0.000   0.012   \n",
       "ProQ3         0.632     0.599  7.891   1.051      0.000       0.000   0.006   \n",
       "ProQ2         0.671     0.634 10.700   0.803      0.000       0.000   0.000   \n",
       "VoroMQA       0.676     0.624 12.105   0.786      0.000       0.000   0.002   \n",
       "SBROD         0.674     0.637 10.014   0.930      0.000       0.000   0.000   \n",
       "Sato-3DCNN    0.748     0.703  6.527   1.167      0.000       0.000   0.444   \n",
       "\n",
       "            zscore_p dataset  \n",
       "Proposed         NaN  CASP13  \n",
       "ProQ3D         0.023  CASP13  \n",
       "ProQ2D         0.009  CASP13  \n",
       "ProQ3          0.008  CASP13  \n",
       "ProQ2          0.000  CASP13  \n",
       "VoroMQA        0.001  CASP13  \n",
       "SBROD          0.001  CASP13  \n",
       "Sato-3DCNN     0.393  CASP13  "
      ],
      "text/html": "<div>\n<style scoped>\n    .dataframe tbody tr th:only-of-type {\n        vertical-align: middle;\n    }\n\n    .dataframe tbody tr th {\n        vertical-align: top;\n    }\n\n    .dataframe thead th {\n        text-align: right;\n    }\n</style>\n<table border=\"1\" class=\"dataframe\">\n  <thead>\n    <tr style=\"text-align: right;\">\n      <th></th>\n      <th>pearson</th>\n      <th>spearman</th>\n      <th>loss</th>\n      <th>zscore</th>\n      <th>pearson_p</th>\n      <th>spearman_p</th>\n      <th>loss_p</th>\n      <th>zscore_p</th>\n      <th>dataset</th>\n    </tr>\n  </thead>\n  <tbody>\n    <tr>\n      <th>Proposed</th>\n      <td>0.797</td>\n      <td>0.757</td>\n      <td>5.708</td>\n      <td>1.264</td>\n      <td>NaN</td>\n      <td>NaN</td>\n      <td>NaN</td>\n      <td>NaN</td>\n      <td>CASP13</td>\n    </tr>\n    <tr>\n      <th>ProQ3D</th>\n      <td>0.686</td>\n      <td>0.638</td>\n      <td>9.482</td>\n      <td>0.990</td>\n      <td>0.000</td>\n      <td>0.000</td>\n      <td>0.022</td>\n      <td>0.023</td>\n      <td>CASP13</td>\n    </tr>\n    <tr>\n      <th>ProQ2D</th>\n      <td>0.708</td>\n      <td>0.665</td>\n      <td>8.766</td>\n      <td>1.000</td>\n      <td>0.000</td>\n      <td>0.000</td>\n      <td>0.012</td>\n      <td>0.009</td>\n      <td>CASP13</td>\n    </tr>\n    <tr>\n      <th>ProQ3</th>\n      <td>0.632</td>\n      <td>0.599</td>\n      <td>7.891</td>\n      <td>1.051</td>\n      <td>0.000</td>\n      <td>0.000</td>\n      <td>0.006</td>\n      <td>0.008</td>\n      <td>CASP13</td>\n    </tr>\n    <tr>\n      <th>ProQ2</th>\n      <td>0.671</td>\n      <td>0.634</td>\n      <td>10.700</td>\n      <td>0.803</td>\n      <td>0.000</td>\n      <td>0.000</td>\n      <td>0.000</td>\n      <td>0.000</td>\n      <td>CASP13</td>\n    </tr>\n    <tr>\n      <th>VoroMQA</th>\n      <td>0.676</td>\n      <td>0.624</td>\n      <td>12.105</td>\n      <td>0.786</td>\n      <td>0.000</td>\n      <td>0.000</td>\n      <td>0.002</td>\n      <td>0.001</td>\n      <td>CASP13</td>\n    </tr>\n    <tr>\n      <th>SBROD</th>\n      <td>0.674</td>\n      <td>0.637</td>\n      <td>10.014</td>\n      <td>0.930</td>\n      <td>0.000</td>\n      <td>0.000</td>\n      <td>0.000</td>\n      <td>0.001</td>\n      <td>CASP13</td>\n    </tr>\n    <tr>\n      <th>Sato-3DCNN</th>\n      <td>0.748</td>\n      <td>0.703</td>\n      <td>6.527</td>\n      <td>1.167</td>\n      <td>0.000</td>\n      <td>0.000</td>\n      <td>0.444</td>\n      <td>0.393</td>\n      <td>CASP13</td>\n    </tr>\n  </tbody>\n</table>\n</div>"
     },
     "metadata": {},
     "execution_count": 4
    }
   ],
   "source": [
    "# casp13_result_df = eval(casp13_df)\n",
    "casp13_result_df = eval(casp13_df, base_method='Proposed', comparison_method_list=casp13_df.columns[3: ])\n",
    "casp13_result_df['dataset'] = 'CASP13'\n",
    "casp13_result_df"
   ]
  },
  {
   "cell_type": "code",
   "execution_count": 5,
   "metadata": {},
   "outputs": [
    {
     "output_type": "execute_result",
     "data": {
      "text/plain": [
       "            pearson  spearman  loss  zscore  pearson_p  spearman_p  loss_p  \\\n",
       "Proposed      0.856     0.782 4.319   1.240        NaN         NaN     NaN   \n",
       "ProQ3D        0.750     0.672 7.989   0.922      0.000       0.000   0.005   \n",
       "ProQ3         0.686     0.618 5.292   1.137      0.000       0.000   0.410   \n",
       "ProQ2         0.694     0.616 5.280   1.130      0.000       0.000   0.288   \n",
       "ProQ2D        0.733     0.657 6.396   1.017      0.000       0.000   0.012   \n",
       "VoroMQA       0.671     0.592 7.649   0.963      0.000       0.000   0.043   \n",
       "SBROD         0.682     0.612 7.063   0.967      0.000       0.000   0.035   \n",
       "Sato-3DCNN    0.746     0.675 5.530   1.139      0.000       0.000   0.489   \n",
       "\n",
       "            zscore_p dataset  \n",
       "Proposed         NaN  CASP12  \n",
       "ProQ3D         0.007  CASP12  \n",
       "ProQ3          0.418  CASP12  \n",
       "ProQ2          0.281  CASP12  \n",
       "ProQ2D         0.007  CASP12  \n",
       "VoroMQA        0.043  CASP12  \n",
       "SBROD          0.042  CASP12  \n",
       "Sato-3DCNN     0.499  CASP12  "
      ],
      "text/html": "<div>\n<style scoped>\n    .dataframe tbody tr th:only-of-type {\n        vertical-align: middle;\n    }\n\n    .dataframe tbody tr th {\n        vertical-align: top;\n    }\n\n    .dataframe thead th {\n        text-align: right;\n    }\n</style>\n<table border=\"1\" class=\"dataframe\">\n  <thead>\n    <tr style=\"text-align: right;\">\n      <th></th>\n      <th>pearson</th>\n      <th>spearman</th>\n      <th>loss</th>\n      <th>zscore</th>\n      <th>pearson_p</th>\n      <th>spearman_p</th>\n      <th>loss_p</th>\n      <th>zscore_p</th>\n      <th>dataset</th>\n    </tr>\n  </thead>\n  <tbody>\n    <tr>\n      <th>Proposed</th>\n      <td>0.856</td>\n      <td>0.782</td>\n      <td>4.319</td>\n      <td>1.240</td>\n      <td>NaN</td>\n      <td>NaN</td>\n      <td>NaN</td>\n      <td>NaN</td>\n      <td>CASP12</td>\n    </tr>\n    <tr>\n      <th>ProQ3D</th>\n      <td>0.750</td>\n      <td>0.672</td>\n      <td>7.989</td>\n      <td>0.922</td>\n      <td>0.000</td>\n      <td>0.000</td>\n      <td>0.005</td>\n      <td>0.007</td>\n      <td>CASP12</td>\n    </tr>\n    <tr>\n      <th>ProQ3</th>\n      <td>0.686</td>\n      <td>0.618</td>\n      <td>5.292</td>\n      <td>1.137</td>\n      <td>0.000</td>\n      <td>0.000</td>\n      <td>0.410</td>\n      <td>0.418</td>\n      <td>CASP12</td>\n    </tr>\n    <tr>\n      <th>ProQ2</th>\n      <td>0.694</td>\n      <td>0.616</td>\n      <td>5.280</td>\n      <td>1.130</td>\n      <td>0.000</td>\n      <td>0.000</td>\n      <td>0.288</td>\n      <td>0.281</td>\n      <td>CASP12</td>\n    </tr>\n    <tr>\n      <th>ProQ2D</th>\n      <td>0.733</td>\n      <td>0.657</td>\n      <td>6.396</td>\n      <td>1.017</td>\n      <td>0.000</td>\n      <td>0.000</td>\n      <td>0.012</td>\n      <td>0.007</td>\n      <td>CASP12</td>\n    </tr>\n    <tr>\n      <th>VoroMQA</th>\n      <td>0.671</td>\n      <td>0.592</td>\n      <td>7.649</td>\n      <td>0.963</td>\n      <td>0.000</td>\n      <td>0.000</td>\n      <td>0.043</td>\n      <td>0.043</td>\n      <td>CASP12</td>\n    </tr>\n    <tr>\n      <th>SBROD</th>\n      <td>0.682</td>\n      <td>0.612</td>\n      <td>7.063</td>\n      <td>0.967</td>\n      <td>0.000</td>\n      <td>0.000</td>\n      <td>0.035</td>\n      <td>0.042</td>\n      <td>CASP12</td>\n    </tr>\n    <tr>\n      <th>Sato-3DCNN</th>\n      <td>0.746</td>\n      <td>0.675</td>\n      <td>5.530</td>\n      <td>1.139</td>\n      <td>0.000</td>\n      <td>0.000</td>\n      <td>0.489</td>\n      <td>0.499</td>\n      <td>CASP12</td>\n    </tr>\n  </tbody>\n</table>\n</div>"
     },
     "metadata": {},
     "execution_count": 5
    }
   ],
   "source": [
    "casp12_result_df = eval(casp12_df, base_method='Proposed', comparison_method_list=casp12_df.columns[3: ])\n",
    "casp12_result_df['dataset'] = 'CASP12'\n",
    "casp12_result_df"
   ]
  },
  {
   "cell_type": "code",
   "execution_count": 6,
   "metadata": {},
   "outputs": [
    {
     "output_type": "execute_result",
     "data": {
      "text/plain": [
       "            pearson  spearman  loss  zscore  pearson_p  spearman_p  loss_p  \\\n",
       "Proposed      0.724     0.688 3.116   1.289        NaN         NaN     NaN   \n",
       "ProQ3D        0.526     0.496 6.133   0.820      0.000       0.000   0.003   \n",
       "ProQ3         0.476     0.458 5.259   1.080      0.000       0.000   0.034   \n",
       "ProQ2         0.460     0.441 6.769   0.883      0.000       0.000   0.002   \n",
       "ProQ2D        0.481     0.457 6.298   0.859      0.000       0.000   0.001   \n",
       "VoroMQA       0.469     0.466 6.820   0.806      0.000       0.000   0.002   \n",
       "SBROD         0.449     0.434 6.030   0.873      0.000       0.000   0.009   \n",
       "Sato-3DCNN    0.600     0.583 3.662   1.231      0.000       0.000   0.196   \n",
       "\n",
       "            zscore_p dataset  \n",
       "Proposed         NaN  CASP11  \n",
       "ProQ3D         0.008  CASP11  \n",
       "ProQ3          0.084  CASP11  \n",
       "ProQ2          0.004  CASP11  \n",
       "ProQ2D         0.001  CASP11  \n",
       "VoroMQA        0.003  CASP11  \n",
       "SBROD          0.007  CASP11  \n",
       "Sato-3DCNN     0.269  CASP11  "
      ],
      "text/html": "<div>\n<style scoped>\n    .dataframe tbody tr th:only-of-type {\n        vertical-align: middle;\n    }\n\n    .dataframe tbody tr th {\n        vertical-align: top;\n    }\n\n    .dataframe thead th {\n        text-align: right;\n    }\n</style>\n<table border=\"1\" class=\"dataframe\">\n  <thead>\n    <tr style=\"text-align: right;\">\n      <th></th>\n      <th>pearson</th>\n      <th>spearman</th>\n      <th>loss</th>\n      <th>zscore</th>\n      <th>pearson_p</th>\n      <th>spearman_p</th>\n      <th>loss_p</th>\n      <th>zscore_p</th>\n      <th>dataset</th>\n    </tr>\n  </thead>\n  <tbody>\n    <tr>\n      <th>Proposed</th>\n      <td>0.724</td>\n      <td>0.688</td>\n      <td>3.116</td>\n      <td>1.289</td>\n      <td>NaN</td>\n      <td>NaN</td>\n      <td>NaN</td>\n      <td>NaN</td>\n      <td>CASP11</td>\n    </tr>\n    <tr>\n      <th>ProQ3D</th>\n      <td>0.526</td>\n      <td>0.496</td>\n      <td>6.133</td>\n      <td>0.820</td>\n      <td>0.000</td>\n      <td>0.000</td>\n      <td>0.003</td>\n      <td>0.008</td>\n      <td>CASP11</td>\n    </tr>\n    <tr>\n      <th>ProQ3</th>\n      <td>0.476</td>\n      <td>0.458</td>\n      <td>5.259</td>\n      <td>1.080</td>\n      <td>0.000</td>\n      <td>0.000</td>\n      <td>0.034</td>\n      <td>0.084</td>\n      <td>CASP11</td>\n    </tr>\n    <tr>\n      <th>ProQ2</th>\n      <td>0.460</td>\n      <td>0.441</td>\n      <td>6.769</td>\n      <td>0.883</td>\n      <td>0.000</td>\n      <td>0.000</td>\n      <td>0.002</td>\n      <td>0.004</td>\n      <td>CASP11</td>\n    </tr>\n    <tr>\n      <th>ProQ2D</th>\n      <td>0.481</td>\n      <td>0.457</td>\n      <td>6.298</td>\n      <td>0.859</td>\n      <td>0.000</td>\n      <td>0.000</td>\n      <td>0.001</td>\n      <td>0.001</td>\n      <td>CASP11</td>\n    </tr>\n    <tr>\n      <th>VoroMQA</th>\n      <td>0.469</td>\n      <td>0.466</td>\n      <td>6.820</td>\n      <td>0.806</td>\n      <td>0.000</td>\n      <td>0.000</td>\n      <td>0.002</td>\n      <td>0.003</td>\n      <td>CASP11</td>\n    </tr>\n    <tr>\n      <th>SBROD</th>\n      <td>0.449</td>\n      <td>0.434</td>\n      <td>6.030</td>\n      <td>0.873</td>\n      <td>0.000</td>\n      <td>0.000</td>\n      <td>0.009</td>\n      <td>0.007</td>\n      <td>CASP11</td>\n    </tr>\n    <tr>\n      <th>Sato-3DCNN</th>\n      <td>0.600</td>\n      <td>0.583</td>\n      <td>3.662</td>\n      <td>1.231</td>\n      <td>0.000</td>\n      <td>0.000</td>\n      <td>0.196</td>\n      <td>0.269</td>\n      <td>CASP11</td>\n    </tr>\n  </tbody>\n</table>\n</div>"
     },
     "metadata": {},
     "execution_count": 6
    }
   ],
   "source": [
    "casp11_result_df = eval(casp11_df, base_method='Proposed', comparison_method_list=casp11_df.columns[3: ])\n",
    "casp11_result_df['dataset'] = 'CASP11'\n",
    "casp11_result_df"
   ]
  },
  {
   "cell_type": "code",
   "execution_count": 7,
   "metadata": {},
   "outputs": [],
   "source": [
    "casp_result_df = pd.concat([casp13_result_df, casp12_result_df, casp11_result_df])\n",
    "casp_result_df.to_csv('casp_result.csv')"
   ]
  },
  {
   "source": [
    "# compare validation result"
   ],
   "cell_type": "markdown",
   "metadata": {}
  },
  {
   "cell_type": "code",
   "execution_count": 8,
   "metadata": {},
   "outputs": [
    {
     "output_type": "execute_result",
     "data": {
      "text/plain": [
       "       atom_pssm_local  atom  atom_pssm  atom_local  pssm_local  GDT_TS  \\\n",
       "0                0.201 0.177      0.163       0.262       0.237  32.140   \n",
       "1                0.003 0.052      0.019       0.047       0.006   5.190   \n",
       "2                0.198 0.161      0.104       0.273       0.222  21.860   \n",
       "3                0.571 0.384      0.273       0.592       0.520  33.780   \n",
       "4                0.866 0.829      0.894       0.833       0.882  71.770   \n",
       "...                ...   ...        ...         ...         ...     ...   \n",
       "23089            0.917 0.754      0.829       0.900       0.890  83.490   \n",
       "23090            0.023 0.097      0.057       0.088       0.030   8.160   \n",
       "23091            0.782 0.644      0.662       0.733       0.766  71.230   \n",
       "23092            0.020 0.024      0.012       0.035       0.022  11.800   \n",
       "23093            0.659 0.502      0.320       0.567       0.617  42.920   \n",
       "\n",
       "             target                           model_path  \n",
       "0       casp7/T0347          casp7/T0347/ROBETTA_TS3.npz  \n",
       "1       casp9/T0547           casp9/T0547/YASARA_TS1.npz  \n",
       "2      casp10/T0674  casp10/T0674/SAM-T06-server_TS1.npz  \n",
       "3      casp10/T0751          casp10/T0751/PconsD_TS4.npz  \n",
       "4       casp7/T0359  casp7/T0359/3D-JIGSAW_RECOM_TS5.npz  \n",
       "...             ...                                  ...  \n",
       "23089   casp9/T0538            casp9/T0538/Pcons_TS3.npz  \n",
       "23090  casp10/T0715         casp10/T0715/RBO-MBS_TS1.npz  \n",
       "23091   casp9/T0538              casp9/T0538/gws_TS1.npz  \n",
       "23092  casp10/T0741     casp10/T0741/BhageerathH_TS4.npz  \n",
       "23093   casp9/T0605     casp9/T0605/FALCON-SWIFT_TS5.npz  \n",
       "\n",
       "[23094 rows x 8 columns]"
      ],
      "text/html": "<div>\n<style scoped>\n    .dataframe tbody tr th:only-of-type {\n        vertical-align: middle;\n    }\n\n    .dataframe tbody tr th {\n        vertical-align: top;\n    }\n\n    .dataframe thead th {\n        text-align: right;\n    }\n</style>\n<table border=\"1\" class=\"dataframe\">\n  <thead>\n    <tr style=\"text-align: right;\">\n      <th></th>\n      <th>atom_pssm_local</th>\n      <th>atom</th>\n      <th>atom_pssm</th>\n      <th>atom_local</th>\n      <th>pssm_local</th>\n      <th>GDT_TS</th>\n      <th>target</th>\n      <th>model_path</th>\n    </tr>\n  </thead>\n  <tbody>\n    <tr>\n      <th>0</th>\n      <td>0.201</td>\n      <td>0.177</td>\n      <td>0.163</td>\n      <td>0.262</td>\n      <td>0.237</td>\n      <td>32.140</td>\n      <td>casp7/T0347</td>\n      <td>casp7/T0347/ROBETTA_TS3.npz</td>\n    </tr>\n    <tr>\n      <th>1</th>\n      <td>0.003</td>\n      <td>0.052</td>\n      <td>0.019</td>\n      <td>0.047</td>\n      <td>0.006</td>\n      <td>5.190</td>\n      <td>casp9/T0547</td>\n      <td>casp9/T0547/YASARA_TS1.npz</td>\n    </tr>\n    <tr>\n      <th>2</th>\n      <td>0.198</td>\n      <td>0.161</td>\n      <td>0.104</td>\n      <td>0.273</td>\n      <td>0.222</td>\n      <td>21.860</td>\n      <td>casp10/T0674</td>\n      <td>casp10/T0674/SAM-T06-server_TS1.npz</td>\n    </tr>\n    <tr>\n      <th>3</th>\n      <td>0.571</td>\n      <td>0.384</td>\n      <td>0.273</td>\n      <td>0.592</td>\n      <td>0.520</td>\n      <td>33.780</td>\n      <td>casp10/T0751</td>\n      <td>casp10/T0751/PconsD_TS4.npz</td>\n    </tr>\n    <tr>\n      <th>4</th>\n      <td>0.866</td>\n      <td>0.829</td>\n      <td>0.894</td>\n      <td>0.833</td>\n      <td>0.882</td>\n      <td>71.770</td>\n      <td>casp7/T0359</td>\n      <td>casp7/T0359/3D-JIGSAW_RECOM_TS5.npz</td>\n    </tr>\n    <tr>\n      <th>...</th>\n      <td>...</td>\n      <td>...</td>\n      <td>...</td>\n      <td>...</td>\n      <td>...</td>\n      <td>...</td>\n      <td>...</td>\n      <td>...</td>\n    </tr>\n    <tr>\n      <th>23089</th>\n      <td>0.917</td>\n      <td>0.754</td>\n      <td>0.829</td>\n      <td>0.900</td>\n      <td>0.890</td>\n      <td>83.490</td>\n      <td>casp9/T0538</td>\n      <td>casp9/T0538/Pcons_TS3.npz</td>\n    </tr>\n    <tr>\n      <th>23090</th>\n      <td>0.023</td>\n      <td>0.097</td>\n      <td>0.057</td>\n      <td>0.088</td>\n      <td>0.030</td>\n      <td>8.160</td>\n      <td>casp10/T0715</td>\n      <td>casp10/T0715/RBO-MBS_TS1.npz</td>\n    </tr>\n    <tr>\n      <th>23091</th>\n      <td>0.782</td>\n      <td>0.644</td>\n      <td>0.662</td>\n      <td>0.733</td>\n      <td>0.766</td>\n      <td>71.230</td>\n      <td>casp9/T0538</td>\n      <td>casp9/T0538/gws_TS1.npz</td>\n    </tr>\n    <tr>\n      <th>23092</th>\n      <td>0.020</td>\n      <td>0.024</td>\n      <td>0.012</td>\n      <td>0.035</td>\n      <td>0.022</td>\n      <td>11.800</td>\n      <td>casp10/T0741</td>\n      <td>casp10/T0741/BhageerathH_TS4.npz</td>\n    </tr>\n    <tr>\n      <th>23093</th>\n      <td>0.659</td>\n      <td>0.502</td>\n      <td>0.320</td>\n      <td>0.567</td>\n      <td>0.617</td>\n      <td>42.920</td>\n      <td>casp9/T0605</td>\n      <td>casp9/T0605/FALCON-SWIFT_TS5.npz</td>\n    </tr>\n  </tbody>\n</table>\n<p>23094 rows × 8 columns</p>\n</div>"
     },
     "metadata": {},
     "execution_count": 8
    }
   ],
   "source": [
    "val_pro_df = pd.read_csv('val/each_feature/proposed_2.csv', index_col=0).rename({'global_score': 'atom_pssm_local'}, axis=1)\n",
    "val_atom_only_df = pd.read_csv('val/each_feature/atom_only_4.csv', index_col=0).rename({'global_score': 'atom'}, axis=1)\n",
    "val_add_pssm_df = pd.read_csv('val/each_feature/add_pssm_3.csv', index_col=0).rename({'global_score': 'atom_pssm'}, axis=1)\n",
    "val_without_pssm_df = pd.read_csv('val/each_feature/without_pssm_5.csv', index_col=0).rename({'global_score': 'atom_local'}, axis=1)\n",
    "val_without_atom_df = pd.read_csv('val/each_feature/without_atom_5.csv', index_col=0).rename({'global_score': 'pssm_local'}, axis=1)\n",
    "val_df = pd.concat([val_pro_df, val_atom_only_df, val_add_pssm_df, val_without_pssm_df, val_without_atom_df], axis=1)\n",
    "val_df = val_df.loc[:, ~val_df.columns.duplicated(keep='last')]\n",
    "val_df = val_df.rename({'global_label': 'GDT_TS', 'target_name': 'target'}, axis=1)\n",
    "val_df['GDT_TS'] *= 100\n",
    "val_df"
   ]
  },
  {
   "cell_type": "code",
   "execution_count": 9,
   "metadata": {},
   "outputs": [],
   "source": [
    "val_df.to_csv('val/val_comparison_for_each_feature.csv')"
   ]
  },
  {
   "cell_type": "code",
   "execution_count": 10,
   "metadata": {},
   "outputs": [],
   "source": [
    "val_df = pd.read_csv('val/val_comparison_for_each_feature.csv', index_col=0)"
   ]
  },
  {
   "cell_type": "code",
   "execution_count": 11,
   "metadata": {},
   "outputs": [],
   "source": [
    "def val_eval(df, label_name='GDT_TS'):\n",
    "    df = df.groupby('target').filter(lambda x: x[label_name].max() > 0.4)\n",
    "    group = df.groupby('target')\n",
    "    columns = df.columns[: 5]\n",
    "    pearson = group.corr()[label_name].mean(level=1)[columns]\n",
    "    spearman = group.corr(method='spearman')[label_name].mean(level=1)[columns]\n",
    "    loss = list(map(lambda column: group.apply(lambda x: x[label_name].max() - x[label_name][x[column].idxmax()]).mean(), columns))\n",
    "    zscore = list(map(lambda column: group.apply(lambda x: stats.zscore(x[label_name])[x.index.get_loc(x[column].idxmax())]).mean(), columns))\n",
    "    performance_df = pd.DataFrame({'Pearson': pearson, 'Spearman': spearman, 'loss': loss, 'zscore': zscore}, index=columns)\n",
    "    print(len(group))\n",
    "    return performance_df"
   ]
  },
  {
   "cell_type": "code",
   "execution_count": 12,
   "metadata": {},
   "outputs": [
    {
     "output_type": "stream",
     "name": "stdout",
     "text": [
      "85\n"
     ]
    },
    {
     "output_type": "execute_result",
     "data": {
      "text/plain": [
       "                 Pearson  Spearman  loss  zscore\n",
       "atom_pssm_local    0.865     0.751 2.519   4.866\n",
       "atom               0.757     0.645 8.518   4.244\n",
       "atom_pssm          0.834     0.729 9.860   4.239\n",
       "atom_local         0.847     0.724 3.883   4.742\n",
       "pssm_local         0.858     0.742 4.818   4.666"
      ],
      "text/html": "<div>\n<style scoped>\n    .dataframe tbody tr th:only-of-type {\n        vertical-align: middle;\n    }\n\n    .dataframe tbody tr th {\n        vertical-align: top;\n    }\n\n    .dataframe thead th {\n        text-align: right;\n    }\n</style>\n<table border=\"1\" class=\"dataframe\">\n  <thead>\n    <tr style=\"text-align: right;\">\n      <th></th>\n      <th>Pearson</th>\n      <th>Spearman</th>\n      <th>loss</th>\n      <th>zscore</th>\n    </tr>\n  </thead>\n  <tbody>\n    <tr>\n      <th>atom_pssm_local</th>\n      <td>0.865</td>\n      <td>0.751</td>\n      <td>2.519</td>\n      <td>4.866</td>\n    </tr>\n    <tr>\n      <th>atom</th>\n      <td>0.757</td>\n      <td>0.645</td>\n      <td>8.518</td>\n      <td>4.244</td>\n    </tr>\n    <tr>\n      <th>atom_pssm</th>\n      <td>0.834</td>\n      <td>0.729</td>\n      <td>9.860</td>\n      <td>4.239</td>\n    </tr>\n    <tr>\n      <th>atom_local</th>\n      <td>0.847</td>\n      <td>0.724</td>\n      <td>3.883</td>\n      <td>4.742</td>\n    </tr>\n    <tr>\n      <th>pssm_local</th>\n      <td>0.858</td>\n      <td>0.742</td>\n      <td>4.818</td>\n      <td>4.666</td>\n    </tr>\n  </tbody>\n</table>\n</div>"
     },
     "metadata": {},
     "execution_count": 12
    }
   ],
   "source": [
    "val_eval(val_df)"
   ]
  },
  {
   "cell_type": "code",
   "execution_count": 14,
   "metadata": {},
   "outputs": [
    {
     "output_type": "execute_result",
     "data": {
      "text/plain": [
       "                 pearson  spearman  loss  zscore  pearson_p  spearman_p  \\\n",
       "atom_pssm_local    0.865     0.751 2.519   4.866        NaN         NaN   \n",
       "atom               0.757     0.645 8.518   4.244      0.000       0.000   \n",
       "atom_pssm          0.834     0.729 9.860   4.239      0.000       0.001   \n",
       "atom_local         0.847     0.724 3.883   4.742      0.000       0.000   \n",
       "pssm_local         0.858     0.742 4.818   4.666      0.304       0.126   \n",
       "\n",
       "                 loss_p  zscore_p  \n",
       "atom_pssm_local     NaN       NaN  \n",
       "atom              0.002     0.002  \n",
       "atom_pssm         0.000     0.000  \n",
       "atom_local        0.398     0.398  \n",
       "pssm_local        0.005     0.005  "
      ],
      "text/html": "<div>\n<style scoped>\n    .dataframe tbody tr th:only-of-type {\n        vertical-align: middle;\n    }\n\n    .dataframe tbody tr th {\n        vertical-align: top;\n    }\n\n    .dataframe thead th {\n        text-align: right;\n    }\n</style>\n<table border=\"1\" class=\"dataframe\">\n  <thead>\n    <tr style=\"text-align: right;\">\n      <th></th>\n      <th>pearson</th>\n      <th>spearman</th>\n      <th>loss</th>\n      <th>zscore</th>\n      <th>pearson_p</th>\n      <th>spearman_p</th>\n      <th>loss_p</th>\n      <th>zscore_p</th>\n    </tr>\n  </thead>\n  <tbody>\n    <tr>\n      <th>atom_pssm_local</th>\n      <td>0.865</td>\n      <td>0.751</td>\n      <td>2.519</td>\n      <td>4.866</td>\n      <td>NaN</td>\n      <td>NaN</td>\n      <td>NaN</td>\n      <td>NaN</td>\n    </tr>\n    <tr>\n      <th>atom</th>\n      <td>0.757</td>\n      <td>0.645</td>\n      <td>8.518</td>\n      <td>4.244</td>\n      <td>0.000</td>\n      <td>0.000</td>\n      <td>0.002</td>\n      <td>0.002</td>\n    </tr>\n    <tr>\n      <th>atom_pssm</th>\n      <td>0.834</td>\n      <td>0.729</td>\n      <td>9.860</td>\n      <td>4.239</td>\n      <td>0.000</td>\n      <td>0.001</td>\n      <td>0.000</td>\n      <td>0.000</td>\n    </tr>\n    <tr>\n      <th>atom_local</th>\n      <td>0.847</td>\n      <td>0.724</td>\n      <td>3.883</td>\n      <td>4.742</td>\n      <td>0.000</td>\n      <td>0.000</td>\n      <td>0.398</td>\n      <td>0.398</td>\n    </tr>\n    <tr>\n      <th>pssm_local</th>\n      <td>0.858</td>\n      <td>0.742</td>\n      <td>4.818</td>\n      <td>4.666</td>\n      <td>0.304</td>\n      <td>0.126</td>\n      <td>0.005</td>\n      <td>0.005</td>\n    </tr>\n  </tbody>\n</table>\n</div>"
     },
     "metadata": {},
     "execution_count": 14
    }
   ],
   "source": [
    "val_result_df = eval(val_df, base_method='atom_pssm_local', comparison_method_list=val_df.columns[1: 5])\n",
    "val_result_df"
   ]
  },
  {
   "cell_type": "code",
   "execution_count": 15,
   "metadata": {},
   "outputs": [],
   "source": [
    "val_result_df.to_csv('val/val_result.csv')"
   ]
  }
 ]
}